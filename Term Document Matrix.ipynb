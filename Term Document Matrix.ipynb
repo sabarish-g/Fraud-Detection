{
 "cells": [
  {
   "cell_type": "markdown",
   "metadata": {},
   "source": [
    "## Creating a Term Document Matrix\n",
    "\n",
    "#### Reference: https://www.kaggle.com/c/word2vec-nlp-tutorial/details/part-1-for-beginners-bag-of-words"
   ]
  },
  {
   "cell_type": "code",
   "execution_count": 2,
   "metadata": {
    "collapsed": true
   },
   "outputs": [],
   "source": [
    "'''Importing the packages required'''\n",
    "import re\n",
    "import csv\n",
    "import pandas as pd\n",
    "import nltk"
   ]
  },
  {
   "cell_type": "code",
   "execution_count": 3,
   "metadata": {
    "collapsed": true
   },
   "outputs": [],
   "source": [
    "df = pd.read_csv('F:/Final Project - E-mail Fraud Detection/Actual Code/final_dataset.csv')\n",
    "\n",
    "'''Get the content in another list'''\n",
    "content = df['Content']\n",
    "\n",
    "#print content[1]"
   ]
  },
  {
   "cell_type": "code",
   "execution_count": 4,
   "metadata": {
    "collapsed": false
   },
   "outputs": [
    {
     "name": "stdout",
     "output_type": "stream",
     "text": [
      "Received: from localhost (localhost [127.0.0.1]) for <zzzz@localhost>; Thu, 22 Aug 2002 08:17:21 -0400 (EDT) by localhost with POP3 (fetchmail-5.9.0) Received: from dd_it7 ([210.97.77.167]) for <zzzz@example.com>; Thu, 22 Aug 2002 13:09:41 +0100 Received: from r-smtp.korea.com - 203.122.2.197 by dd_it7  with Microsoft SMTPSVC(5.5.1775.675.6);  Sat, 24 Aug 2002 09:42:10 +0900 <!DOCTYPE HTML PUBLIC \"-//W3C//DTD HTML 4.0 Transitional//EN\"> <HTML><HEAD> <META content=3D\"text/html; charset=3Dwindows-1252\" http-equiv=3DContent-T= ype> <META content=3D\"MSHTML 5.00.2314.1000\" name=3DGENERATOR></HEAD> <BODY><!-- Inserted by Calypso --> <TABLE border=3D0 cellPadding=3D0 cellSpacing=3D2 id=3D_CalyPrintHeader_ r= ules=3Dnone  style=3D\"COLOR: black; DISPLAY: none\" width=3D\"100%\">   <TBODY>   <TR>     <TD colSpan=3D3>       <HR color=3Dblack noShade SIZE=3D1>     </TD></TR></TD></TR>   <TR>     <TD colSpan=3D3>       <HR color=3Dblack noShade SIZE=3D1>     </TD></TR></TBODY></TABLE><!-- End Calypso --><!-- Inserted by Calypso=  --><FONT  color=3D#000000 face=3DVERDANA,ARIAL,HELVETICA size=3D-2><BR></FONT></TD><= /TR></TABLE><!-- End Calypso --><FONT color=3D#ff0000  face=3D\"Copperplate Gothic Bold\" size=3D5 PTSIZE=3D\"10\"> <CENTER>Save up to 70% on Life Insurance.</CENTER></FONT><FONT color=3D#ff= 0000  face=3D\"Copperplate Gothic Bold\" size=3D5 PTSIZE=3D\"10\"> <CENTER>Why Spend More Than You Have To? <CENTER><FONT color=3D#ff0000 face=3D\"Copperplate Gothic Bold\" size=3D5 PT= SIZE=3D\"10\"> <CENTER>Life Quote Savings <CENTER> <P align=3Dleft></P> <P align=3Dleft></P></FONT></U></I></B><BR></FONT></U></B></U></I> <P></P> <CENTER> <TABLE border=3D0 borderColor=3D#111111 cellPadding=3D0 cellSpacing=3D0 wi= dth=3D650>   <TBODY></TBODY></TABLE> <TABLE border=3D0 borderColor=3D#111111 cellPadding=3D5 cellSpacing=3D0 wi= dth=3D650>   <TBODY>   <TR>     <TD colSpan=3D2 width=3D\"35%\"><B><FONT face=3DVerdana size=3D4>Ensurin= g your        family's financial security is very important. Life Quote Savings ma= kes        buying life insurance simple and affordable. We Provide FREE Access = to The        Very Best Companies and The Lowest Rates.</FONT></B></TD></TR>   <TR>     <TD align=3Dmiddle vAlign=3Dtop width=3D\"18%\">       <TABLE borderColor=3D#111111 width=3D\"100%\">         <TBODY>         <TR>           <TD style=3D\"PADDING-LEFT: 5px; PADDING-RIGHT: 5px\" width=3D\"100= %\"><FONT              face=3DVerdana size=3D4><B>Life Quote Savings</B> is FAST, EAS= Y and              SAVES you money! Let us help you get started with the best val= ues in              the country on new coverage. You can SAVE hundreds or even tho= usands              of dollars by requesting a FREE quote from Lifequote Savings. = Our              service will take you less than 5 minutes to complete. Shop an= d              compare. SAVE up to 70% on all types of Life insurance!  </FONT></TD></TR>         <TR><BR><BR>           <TD height=3D50 style=3D\"PADDING-LEFT: 5px; PADDING-RIGHT: 5px\"            width=3D\"100%\">             <P align=3Dcenter><B><FONT face=3DVerdana size=3D5><A              href=3D\"http://website.e365.cc/savequote/\">Click Here For Your=               Free Quote!</A></FONT></B></P></TD>           <P><FONT face=3DVerdana size=3D4><STRONG>           <CENTER>Protecting your family is the best investment you'll eve= r            make!<BR></B></TD></TR>         <TR><BR><BR></STRONG></FONT></TD></TR></TD></TR>         <TR></TR></TBODY></TABLE>       <P align=3Dleft><FONT face=3D\"Arial, Helvetica, sans-serif\" size=3D2= ></FONT></P>       <P></P>       <CENTER><BR><BR><BR>       <P></P>       <P align=3Dleft><BR></B><BR><BR><BR><BR></P>       <P align=3Dcenter><BR></P>       <P align=3Dleft><BR></B><BR><BR></FONT>If you are in receipt of this=  email        in error and/or wish to be removed from our list, <A        href=3D\"mailto:coins@btamail.net.cn\">PLEASE CLICK HERE</A> AND TYPE = REMOVE. If you        reside in any state which prohibits e-mail solicitations for insuran= ce,        please disregard this        email.<BR></FONT><BR><BR><BR><BR><BR><BR><BR><BR><BR><BR><BR><BR><BR= ><BR><BR><BR></FONT></P></CENTER></CENTER></TR></TBODY></TABLE></CENTER></= CENTER></CENTER></CENTER></CENTER></BODY></HTML>\n"
     ]
    }
   ],
   "source": [
    "print content[1]"
   ]
  },
  {
   "cell_type": "markdown",
   "metadata": {},
   "source": [
    "If we consider the above text, the entire thing needs to be stripped off its special characters, spaces, indentations and tab. Along with the things mentioned before, the content does have stray tags that weren't a part of the original mail content. \n",
    "\n",
    "Firstly, we'll strip off the tags and other characters so that we can work on the term document matrix.\n",
    "\n",
    "**Note: A Term Document Matrix is a mathematical matrix that describes frequency of terms that occur in a collection of documents. It is generally used for information retrieval **"
   ]
  },
  {
   "cell_type": "code",
   "execution_count": 5,
   "metadata": {
    "collapsed": false
   },
   "outputs": [
    {
     "name": "stderr",
     "output_type": "stream",
     "text": [
      "C:\\Anaconda2\\lib\\site-packages\\bs4\\__init__.py:166: UserWarning: No parser was explicitly specified, so I'm using the best available HTML parser for this system (\"lxml\"). This usually isn't a problem, but if you run this code on another system, or in a different virtual environment, it may use a different parser and behave differently.\n",
      "\n",
      "To get rid of this warning, change this:\n",
      "\n",
      " BeautifulSoup([your markup])\n",
      "\n",
      "to this:\n",
      "\n",
      " BeautifulSoup([your markup], \"lxml\")\n",
      "\n",
      "  markup_type=markup_type))\n"
     ]
    }
   ],
   "source": [
    "from bs4 import BeautifulSoup\n",
    "contentclean = BeautifulSoup(content[1]).get_text()"
   ]
  },
  {
   "cell_type": "code",
   "execution_count": 6,
   "metadata": {
    "collapsed": false
   },
   "outputs": [
    {
     "name": "stdout",
     "output_type": "stream",
     "text": [
      "Received: from localhost (localhost [127.0.0.1]) for ; Thu, 22 Aug 2002 08:17:21 -0400 (EDT) by localhost with POP3 (fetchmail-5.9.0) Received: from dd_it7 ([210.97.77.167]) for ; Thu, 22 Aug 2002 13:09:41 +0100 Received: from r-smtp.korea.com - 203.122.2.197 by dd_it7  with Microsoft SMTPSVC(5.5.1775.675.6);  Sat, 24 Aug 2002 09:42:10 +0900              <= /TR> Save up to 70% on Life Insurance. Why Spend More Than You Have To?  Life Quote Savings           Ensurin= g your        family's financial security is very important. Life Quote Savings ma= kes        buying life insurance simple and affordable. We Provide FREE Access = to The        Very Best Companies and The Lowest Rates.      Life Quote Savings is FAST, EAS= Y and              SAVES you money! Let us help you get started with the best val= ues in              the country on new coverage. You can SAVE hundreds or even tho= usands              of dollars by requesting a FREE quote from Lifequote Savings. = Our              service will take you less than 5 minutes to complete. Shop an= d              compare. SAVE up to 70% on all types of Life insurance!     Click Here For Your=               Free Quote!  Protecting your family is the best investment you'll eve= r            make!         If you are in receipt of this=  email        in error and/or wish to be removed from our list, PLEASE CLICK HERE AND TYPE = REMOVE. If you        reside in any state which prohibits e-mail solicitations for insuran= ce,        please disregard this        email.= CENTER>\n"
     ]
    }
   ],
   "source": [
    "print contentclean"
   ]
  },
  {
   "cell_type": "code",
   "execution_count": 7,
   "metadata": {
    "collapsed": true
   },
   "outputs": [],
   "source": [
    "letters_only = re.sub(\"[^a-zA-Z]\", \" \", contentclean)"
   ]
  },
  {
   "cell_type": "code",
   "execution_count": 8,
   "metadata": {
    "collapsed": false
   },
   "outputs": [
    {
     "name": "stdout",
     "output_type": "stream",
     "text": [
      "Received  from localhost  localhost              for   Thu     Aug                      EDT  by localhost with POP   fetchmail        Received  from dd it                    for   Thu     Aug                     Received  from r smtp korea com                 by dd it   with Microsoft SMTPSVC                   Sat     Aug                                      TR  Save up to     on Life Insurance  Why Spend More Than You Have To   Life Quote Savings           Ensurin  g your        family s financial security is very important  Life Quote Savings ma  kes        buying life insurance simple and affordable  We Provide FREE Access   to The        Very Best Companies and The Lowest Rates       Life Quote Savings is FAST  EAS  Y and              SAVES you money  Let us help you get started with the best val  ues in              the country on new coverage  You can SAVE hundreds or even tho  usands              of dollars by requesting a FREE quote from Lifequote Savings    Our              service will take you less than   minutes to complete  Shop an  d              compare  SAVE up to     on all types of Life insurance      Click Here For Your                Free Quote   Protecting your family is the best investment you ll eve  r            make          If you are in receipt of this   email        in error and or wish to be removed from our list  PLEASE CLICK HERE AND TYPE   REMOVE  If you        reside in any state which prohibits e mail solicitations for insuran  ce         please disregard this        email   CENTER \n"
     ]
    }
   ],
   "source": [
    "print letters_only"
   ]
  },
  {
   "cell_type": "code",
   "execution_count": 9,
   "metadata": {
    "collapsed": false
   },
   "outputs": [
    {
     "name": "stdout",
     "output_type": "stream",
     "text": [
      "Received  from localhost  localhost              for   Thu     Aug                        by localhost with    fetchmail        Received  from dd it                    for   Thu     Aug                     Received  from r smtp korea com                 by dd it   with Microsoft                    Sat     Aug                                        Save up to     on Life Insurance  Why Spend More Than You Have To   Life Quote Savings           Ensurin  g your        family s financial security is very important  Life Quote Savings ma  kes        buying life insurance simple and affordable  We Provide  Access   to The        Very Best Companies and The Lowest Rates       Life Quote Savings is     Y and               you money  Let us help you get started with the best val  ues in              the country on new coverage  You can  hundreds or even tho  usands              of dollars by requesting a  quote from Lifequote Savings    Our              service will take you less than   minutes to complete  Shop an  d              compare   up to     on all types of Life insurance      Click Here For Your                Free Quote   Protecting your family is the best investment you ll eve  r            make          If you are in receipt of this   email        in error and or wish to be removed from our list           If you        reside in any state which prohibits e mail solicitations for insuran  ce         please disregard this        email    \n"
     ]
    }
   ],
   "source": [
    "'''To remove the Abbreviations'''\n",
    "remove_abbv = re.sub(r\"[A-Z\\.]{2,}\",\"\", letters_only)\n",
    "print remove_abbv"
   ]
  },
  {
   "cell_type": "code",
   "execution_count": 10,
   "metadata": {
    "collapsed": false
   },
   "outputs": [
    {
     "name": "stdout",
     "output_type": "stream",
     "text": [
      "  from                 for   Thu     Aug                        by  with              from dd it                    for   Thu     Aug                       from r smtp korea com                 by dd it   with Microsoft                    Sat     Aug                                        Save up to     on Life Insurance  Why Spend More Than You Have To   Life Quote Savings           Ensurin  g your        family s financial security is very important  Life Quote Savings ma  kes        buying life insurance simple and affordable  We Provide  Access   to The        Very Best Companies and The Lowest Rates       Life Quote Savings is     Y and               you money  Let us help you get started with the best val  ues in              the country on new coverage  You can  hundreds or even tho  usands              of dollars by requesting a  quote from Lifequote Savings    Our              service will take you less than   minutes to complete  Shop an  d              compare   up to     on all types of Life insurance      Click Here For Your                Free Quote   Protecting your family is the best investment you ll eve  r            make          If you are in receipt of this   email        in error and or wish to be removed from our list           If you        reside in any state which prohibits e mail solicitations for insuran  ce         please disregard this        email    \n"
     ]
    }
   ],
   "source": [
    "'''To Remove the common words with context to these source of email'''\n",
    "common_remove = re.sub(r\"(Received|localhost|fetchmail)\",\"\", remove_abbv)\n",
    "print common_remove"
   ]
  },
  {
   "cell_type": "code",
   "execution_count": 11,
   "metadata": {
    "collapsed": false
   },
   "outputs": [
    {
     "name": "stdout",
     "output_type": "stream",
     "text": [
      "[u'from', u'for', u'thu', u'aug', u'by', u'with', u'from', u'dd', u'it', u'for', u'thu', u'aug', u'from', u'r', u'smtp', u'korea', u'com', u'by', u'dd', u'it', u'with', u'microsoft', u'sat', u'aug', u'save', u'up', u'to', u'on', u'life', u'insurance', u'why', u'spend', u'more', u'than', u'you', u'have', u'to', u'life', u'quote', u'savings', u'ensurin', u'g', u'your', u'family', u's', u'financial', u'security', u'is', u'very', u'important', u'life', u'quote', u'savings', u'ma', u'kes', u'buying', u'life', u'insurance', u'simple', u'and', u'affordable', u'we', u'provide', u'access', u'to', u'the', u'very', u'best', u'companies', u'and', u'the', u'lowest', u'rates', u'life', u'quote', u'savings', u'is', u'y', u'and', u'you', u'money', u'let', u'us', u'help', u'you', u'get', u'started', u'with', u'the', u'best', u'val', u'ues', u'in', u'the', u'country', u'on', u'new', u'coverage', u'you', u'can', u'hundreds', u'or', u'even', u'tho', u'usands', u'of', u'dollars', u'by', u'requesting', u'a', u'quote', u'from', u'lifequote', u'savings', u'our', u'service', u'will', u'take', u'you', u'less', u'than', u'minutes', u'to', u'complete', u'shop', u'an', u'd', u'compare', u'up', u'to', u'on', u'all', u'types', u'of', u'life', u'insurance', u'click', u'here', u'for', u'your', u'free', u'quote', u'protecting', u'your', u'family', u'is', u'the', u'best', u'investment', u'you', u'll', u'eve', u'r', u'make', u'if', u'you', u'are', u'in', u'receipt', u'of', u'this', u'email', u'in', u'error', u'and', u'or', u'wish', u'to', u'be', u'removed', u'from', u'our', u'list', u'if', u'you', u'reside', u'in', u'any', u'state', u'which', u'prohibits', u'e', u'mail', u'solicitations', u'for', u'insuran', u'ce', u'please', u'disregard', u'this', u'email']\n"
     ]
    }
   ],
   "source": [
    "'''Convert words as a list using split'''\n",
    "lower_case_words = common_remove.lower()\n",
    "words = lower_case_words.split()\n",
    "print words"
   ]
  },
  {
   "cell_type": "code",
   "execution_count": 12,
   "metadata": {
    "collapsed": false
   },
   "outputs": [
    {
     "name": "stdout",
     "output_type": "stream",
     "text": [
      "[u'thu', u'aug', u'dd', u'thu', u'aug', u'r', u'smtp', u'korea', u'com', u'dd', u'microsoft', u'sat', u'aug', u'save', u'life', u'insurance', u'spend', u'life', u'quote', u'savings', u'ensurin', u'g', u'family', u'financial', u'security', u'important', u'life', u'quote', u'savings', u'kes', u'buying', u'life', u'insurance', u'simple', u'affordable', u'provide', u'access', u'best', u'companies', u'lowest', u'rates', u'life', u'quote', u'savings', u'money', u'let', u'us', u'help', u'get', u'started', u'best', u'val', u'ues', u'country', u'new', u'coverage', u'hundreds', u'even', u'tho', u'usands', u'dollars', u'requesting', u'quote', u'lifequote', u'savings', u'service', u'take', u'less', u'minutes', u'complete', u'shop', u'compare', u'types', u'life', u'insurance', u'click', u'free', u'quote', u'protecting', u'family', u'best', u'investment', u'eve', u'r', u'make', u'receipt', u'email', u'error', u'wish', u'removed', u'list', u'reside', u'state', u'prohibits', u'e', u'mail', u'solicitations', u'insuran', u'ce', u'please', u'disregard', u'email']\n"
     ]
    },
    {
     "data": {
      "text/plain": [
       "'Words like insur and ce are one word - insurance (need to check what to do about it)'"
      ]
     },
     "execution_count": 12,
     "metadata": {},
     "output_type": "execute_result"
    }
   ],
   "source": [
    "'''In words[] we get all the words as a list'''\n",
    "\n",
    "'''To remove stop words'''\n",
    "from nltk.corpus import stopwords\n",
    "remove_stop = [w for w in words if not w in stopwords.words(\"english\")]\n",
    "print remove_stop\n",
    "\n",
    "'''Words like insur and ce are one word - insurance (need to check what to do about it)'''"
   ]
  },
  {
   "cell_type": "markdown",
   "metadata": {},
   "source": [
    "#### The above is a basic list of words (before stemming and removing stop words) that will go in the term document matrix. Should be an easy job! Hodor!"
   ]
  },
  {
   "cell_type": "markdown",
   "metadata": {},
   "source": [
    "Above method uses **split()** to divide the words into separate chunks, NLTK has a special Chunking facility that divides the **words in user-defined units ('chunks')**. "
   ]
  },
  {
   "cell_type": "code",
   "execution_count": 14,
   "metadata": {
    "collapsed": false
   },
   "outputs": [
    {
     "data": {
      "text/plain": [
       "102"
      ]
     },
     "execution_count": 14,
     "metadata": {},
     "output_type": "execute_result"
    }
   ],
   "source": [
    "len(remove_stop)"
   ]
  },
  {
   "cell_type": "markdown",
   "metadata": {},
   "source": [
    "### Using Stemming to reduce all similar words as one so that PCA output would be more impressive. Stemming here can be considered as a dimensionality reduction technique.\n",
    "\n",
    "Resources: http://nlp.stanford.edu/IR-book/html/htmledition/stemming-and-lemmatization-1.html\n",
    "\n",
    "Stemming usually refers to a crude heuristic process that chops off the ends of words in the hope of achieving this goal correctly most of the time, and often includes the removal of derivational affixes. \n",
    "e.g. \n",
    "\n",
    "**Lemmatisation (or lemmatization)** in linguistics, is the process of grouping together the different inflected forms of a word so they can be analysed as a single item.\n",
    "\n",
    "For example, in English, the verb ‘to walk’ may appear as ‘walk’, ‘walked’, ‘walks’, ‘walking’. The base form, ‘walk’, that one might look up in a dictionary, is called the lemma for the word.\n",
    "\n",
    "**Lemmatization usually refers to doing things properly with the use of a vocabulary and morphological analysis of words, normally aiming to remove inflectional endings only and to return the base or dictionary form of a word, which is known as the lemma . If confronted with the token saw, stemming might return just s, whereas lemmatization would attempt to return either see or saw depending on whether the use of the token was as a verb or a noun.**"
   ]
  },
  {
   "cell_type": "markdown",
   "metadata": {},
   "source": [
    "Another method to take into account the similarity between tokens in a bag of words/query and tokens in the document. There are many cases when two character sequences are not quite the same but you would like a match to occur. For instance, if you search for USA, you might hope to also match documents containing U.S.A. \n",
    "\n",
    "Here the matches occur even if there are superficial differences - like windows, Windows, winDOWs\n",
    "\n",
    "Can also be used to maintain relation between specially constructed list of synonyms like 'car' and 'automobile'. "
   ]
  },
  {
   "cell_type": "markdown",
   "metadata": {},
   "source": [
    "## FEATURE SELECTION METHODS\n",
    "\n",
    "> 1. http://nlp.stanford.edu/IR-book/html/htmledition/feature-selectionchi2-feature-selection-1.html#17231"
   ]
  }
 ],
 "metadata": {
  "kernelspec": {
   "display_name": "Python 2",
   "language": "python",
   "name": "python2"
  },
  "language_info": {
   "codemirror_mode": {
    "name": "ipython",
    "version": 2
   },
   "file_extension": ".py",
   "mimetype": "text/x-python",
   "name": "python",
   "nbconvert_exporter": "python",
   "pygments_lexer": "ipython2",
   "version": "2.7.11"
  }
 },
 "nbformat": 4,
 "nbformat_minor": 0
}
